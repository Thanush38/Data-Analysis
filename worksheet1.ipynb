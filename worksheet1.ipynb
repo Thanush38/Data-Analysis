{
 "cells": [
  {
   "cell_type": "code",
   "execution_count": 16,
   "metadata": {},
   "outputs": [],
   "source": [
    "import numpy as np"
   ]
  },
  {
   "cell_type": "code",
   "execution_count": 17,
   "metadata": {},
   "outputs": [],
   "source": [
    "d = [2, 4, 6, 8, 'Monday', 'Tuesday']"
   ]
  },
  {
   "cell_type": "code",
   "execution_count": 18,
   "metadata": {},
   "outputs": [],
   "source": [
    "d.insert(2, 100)"
   ]
  },
  {
   "cell_type": "code",
   "execution_count": 19,
   "metadata": {},
   "outputs": [
    {
     "name": "stdout",
     "output_type": "stream",
     "text": [
      "<class 'int'>   <class 'int'>   <class 'int'>   <class 'int'>   <class 'int'>   <class 'str'>   <class 'str'>   "
     ]
    }
   ],
   "source": [
    "for item in d:\n",
    "    print(type(item), end='   ')"
   ]
  },
  {
   "cell_type": "code",
   "execution_count": 20,
   "metadata": {},
   "outputs": [],
   "source": [
    "d2 = ['Wednesday', 'Thursday', 'Friday']"
   ]
  },
  {
   "cell_type": "code",
   "execution_count": 21,
   "metadata": {},
   "outputs": [],
   "source": [
    "d = d + d2"
   ]
  },
  {
   "cell_type": "code",
   "execution_count": 22,
   "metadata": {},
   "outputs": [
    {
     "name": "stdout",
     "output_type": "stream",
     "text": [
      "my favourite day is Friday\n"
     ]
    }
   ],
   "source": [
    "popped = d.pop(-1)\n",
    "print(f'my favourite day is {popped}')"
   ]
  },
  {
   "cell_type": "code",
   "execution_count": 23,
   "metadata": {},
   "outputs": [],
   "source": [
    "d = np.array(np.linspace(5,35,num=10))"
   ]
  },
  {
   "cell_type": "code",
   "execution_count": 24,
   "metadata": {},
   "outputs": [],
   "source": [
    "d=d.reshape(5,2)"
   ]
  },
  {
   "cell_type": "code",
   "execution_count": 25,
   "metadata": {},
   "outputs": [
    {
     "name": "stdout",
     "output_type": "stream",
     "text": [
      "Column 1 mean: 18.33, Column 2 mean: 21.67\n"
     ]
    }
   ],
   "source": [
    "mean = [0,0]\n",
    "for i in range(5):\n",
    "    mean[0] = mean[0]+ d[i][0]\n",
    "    mean[1] = mean[1]+ d[i][1]\n",
    "mean[0] = mean[0]/5\n",
    "mean[1] = mean[1]/5\n",
    "print(f'Column 1 mean: {round(mean[0],2)}, Column 2 mean: {round(mean[1],2)}')"
   ]
  },
  {
   "cell_type": "code",
   "execution_count": 26,
   "metadata": {},
   "outputs": [
    {
     "name": "stdout",
     "output_type": "stream",
     "text": [
      "[[ 5.          8.33333333]\n",
      " [11.66666667 15.        ]\n",
      " [18.33333333 21.66666667]\n",
      " [25.         28.33333333]\n",
      " [31.66666667 35.        ]]\n",
      "[ 8.33333333 15.         21.66666667 28.33333333 35.        ]\n"
     ]
    }
   ],
   "source": [
    "print(d)\n",
    "print(d[:,1])\n",
    "# print(d[][0])"
   ]
  },
  {
   "cell_type": "code",
   "execution_count": null,
   "metadata": {},
   "outputs": [],
   "source": []
  }
 ],
 "metadata": {
  "kernelspec": {
   "display_name": "Python 3 (ipykernel)",
   "language": "python",
   "name": "python3"
  },
  "language_info": {
   "codemirror_mode": {
    "name": "ipython",
    "version": 3
   },
   "file_extension": ".py",
   "mimetype": "text/x-python",
   "name": "python",
   "nbconvert_exporter": "python",
   "pygments_lexer": "ipython3",
   "version": "3.9.12"
  }
 },
 "nbformat": 4,
 "nbformat_minor": 4
}
