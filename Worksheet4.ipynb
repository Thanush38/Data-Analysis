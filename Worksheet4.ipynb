{
 "cells": [
  {
   "cell_type": "code",
   "execution_count": 3,
   "id": "3dee39e3",
   "metadata": {},
   "outputs": [
    {
     "name": "stdout",
     "output_type": "stream",
     "text": [
      "     day1  day2   day3\n",
      "Mon  68.0  89.0    NaN\n",
      "Wed  71.0  93.0   48.0\n",
      "Fri  66.0  82.0  104.0\n",
      "Tue  75.0  97.0   43.0\n",
      "Thu  62.0   NaN   89.0\n",
      "      day3  day2  day1\n",
      "Mon    NaN  89.0  68.0\n",
      "Tue   43.0  97.0  75.0\n",
      "Wed   48.0  93.0  71.0\n",
      "Thu   89.0   NaN  62.0\n",
      "Fri  104.0  82.0  66.0\n",
      "Sat    NaN   NaN   NaN\n",
      "Sun    NaN   NaN   NaN\n"
     ]
    }
   ],
   "source": [
    "import pandas as pd\n",
    "import numpy as np\n",
    "\n",
    "d = pd.DataFrame({'Mon': [68, 89, np.nan], 'Wed': [71, 93, 48], 'Fri': [66, 82, 104],\n",
    "'Tue': [75, 97, 43], 'Thu': [62, np.nan, 89]}, index = [\"day1\",\"day2\",\"day3\"]).T\n",
    "\n",
    "print(d)\n",
    "d = d.reindex(index=['Mon', 'Tue', 'Wed', 'Thu', 'Fri','Sat', 'Sun'], columns=['day3', 'day2', 'day1'])\n",
    "\n",
    "print(d)"
   ]
  },
  {
   "cell_type": "code",
   "execution_count": 4,
   "id": "b82d3792",
   "metadata": {},
   "outputs": [
    {
     "name": "stdout",
     "output_type": "stream",
     "text": [
      "     day3  day2\n",
      "Tue  43.0  97.0\n",
      "Thu  89.0   NaN\n"
     ]
    }
   ],
   "source": [
    "\n",
    "print(d.loc[['Tue','Thu'],['day3', 'day2']])"
   ]
  },
  {
   "cell_type": "code",
   "execution_count": 5,
   "metadata": {},
   "outputs": [
    {
     "name": "stdout",
     "output_type": "stream",
     "text": [
      "Mon    78.500\n",
      "Tue    71.667\n",
      "Wed    70.667\n",
      "Thu    75.500\n",
      "Fri    84.000\n",
      "Sat       NaN\n",
      "Sun       NaN\n",
      "dtype: float64\n"
     ]
    }
   ],
   "source": [
    "print(d.mean(axis=1).round(3))"
   ]
  },
  {
   "cell_type": "code",
   "execution_count": 6,
   "id": "f9eb432c",
   "metadata": {
    "scrolled": true
   },
   "outputs": [
    {
     "name": "stdout",
     "output_type": "stream",
     "text": [
      "manufacturer\n",
      "audi          17.611111\n",
      "chevrolet     15.000000\n",
      "dodge         13.135135\n",
      "ford          14.000000\n",
      "honda         24.444444\n",
      "hyundai       18.642857\n",
      "jeep          13.500000\n",
      "land rover    11.500000\n",
      "lincoln       11.333333\n",
      "mercury       13.250000\n",
      "nissan        18.076923\n",
      "pontiac       17.000000\n",
      "subaru        19.285714\n",
      "toyota        18.529412\n",
      "volkswagen    20.925926\n",
      "Name: cty, dtype: float64\n"
     ]
    }
   ],
   "source": [
    "d = pd.read_csv('https://vincentarelbundock.github.io/Rdatasets/csv/ggplot2/mpg.csv')\n",
    "print(d.groupby('manufacturer')['cty'].mean())"
   ]
  },
  {
   "cell_type": "code",
   "execution_count": 7,
   "id": "e1d4a94f",
   "metadata": {},
   "outputs": [
    {
     "name": "stdout",
     "output_type": "stream",
     "text": [
      "drv     4     f     r\n",
      "cyl                  \n",
      "4    23.0  58.0   NaN\n",
      "5     NaN   4.0   NaN\n",
      "6    32.0  43.0   4.0\n",
      "8    48.0   1.0  21.0\n",
      "hello world\n"
     ]
    }
   ],
   "source": [
    "group = d.groupby(['cyl','drv']).size().unstack()\n",
    "print(group)"
   ]
  }
 ],
 "metadata": {
  "kernelspec": {
   "display_name": "Python 3 (ipykernel)",
   "language": "python",
   "name": "python3"
  },
  "language_info": {
   "codemirror_mode": {
    "name": "ipython",
    "version": 3
   },
   "file_extension": ".py",
   "mimetype": "text/x-python",
   "name": "python",
   "nbconvert_exporter": "python",
   "pygments_lexer": "ipython3",
   "version": "3.10.8"
  }
 },
 "nbformat": 4,
 "nbformat_minor": 5
}
