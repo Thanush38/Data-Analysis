{
 "cells": [
  {
   "cell_type": "code",
   "execution_count": 57,
   "id": "e5a7ce43",
   "metadata": {},
   "outputs": [],
   "source": [
    "import numpy as np\n",
    "\n",
    "d = np.arange(start=-20, stop=30, step=5)"
   ]
  },
  {
   "cell_type": "code",
   "execution_count": 58,
   "id": "7410fd51",
   "metadata": {},
   "outputs": [
    {
     "name": "stdout",
     "output_type": "stream",
     "text": [
      "[-200 -150 -100  -50    0   50  100  150  200  250]\n"
     ]
    }
   ],
   "source": [
    "d2 = d * 10\n",
    "print(d2)"
   ]
  },
  {
   "cell_type": "code",
   "execution_count": 59,
   "id": "f738cd76",
   "metadata": {},
   "outputs": [
    {
     "name": "stdout",
     "output_type": "stream",
     "text": [
      "[-220 -165 -110  -55    0   55  110  165  220  275]\n"
     ]
    }
   ],
   "source": [
    "print(np.add(d,d2))"
   ]
  },
  {
   "cell_type": "code",
   "execution_count": 60,
   "id": "a45250f6",
   "metadata": {},
   "outputs": [
    {
     "name": "stdout",
     "output_type": "stream",
     "text": [
      "[[-200 -150]\n",
      " [-100  -50]\n",
      " [   0   50]\n",
      " [ 100  150]\n",
      " [ 200  250]]\n"
     ]
    }
   ],
   "source": [
    "d2 = d2.reshape(5,2)\n",
    "print(d2)"
   ]
  },
  {
   "cell_type": "code",
   "execution_count": 61,
   "id": "99aa6882",
   "metadata": {},
   "outputs": [
    {
     "name": "stdout",
     "output_type": "stream",
     "text": [
      "[1 2 3 4 5]\n"
     ]
    }
   ],
   "source": [
    "d3 = np.arange(start=1, stop=6, step =1)\n",
    "print(d3)"
   ]
  },
  {
   "cell_type": "code",
   "execution_count": 65,
   "id": "b1e8ca5a",
   "metadata": {},
   "outputs": [
    {
     "name": "stdout",
     "output_type": "stream",
     "text": [
      "[[-200 -150]\n",
      " [-200 -100]\n",
      " [   0  150]\n",
      " [ 400  600]\n",
      " [1000 1250]]\n"
     ]
    }
   ],
   "source": [
    "d3 = d3.reshape(5,1)\n",
    "d4 = d2*d3\n",
    "print(d4)"
   ]
  },
  {
   "cell_type": "code",
   "execution_count": 66,
   "id": "a5e3a3c2",
   "metadata": {},
   "outputs": [
    {
     "name": "stdout",
     "output_type": "stream",
     "text": [
      "first row: [-200 -150]\n",
      "second row: [-200 -100]\n",
      "fifth row: [1000 1250]\n",
      "first column [-200 -200    0  400 1000]\n",
      "second column [-150 -100  150  600 1250]\n",
      "object id: 4450846832\n"
     ]
    }
   ],
   "source": [
    "print(f'first row: {d4[0]}')\n",
    "print(f'second row: {d4[1]}')\n",
    "print(f'fifth row: {d4[4]}')\n",
    "print(f'first column {d4[:,0]}')\n",
    "print(f'second column {d4[:,1]}')\n",
    "print(f'object id: {id(d4)}')"
   ]
  },
  {
   "cell_type": "code",
   "execution_count": 68,
   "id": "9246e72a",
   "metadata": {},
   "outputs": [
    {
     "name": "stdout",
     "output_type": "stream",
     "text": [
      "[-200 -150 -200 -100    0  150  400  600 1000 1250]\n"
     ]
    }
   ],
   "source": [
    "d4 = np.resize(d4, (2,5))\n",
    "d4 = d4.flatten()\n",
    "print(d4)"
   ]
  },
  {
   "cell_type": "code",
   "execution_count": null,
   "id": "73afbc36",
   "metadata": {},
   "outputs": [],
   "source": []
  },
  {
   "cell_type": "code",
   "execution_count": null,
   "id": "2dbb20b9",
   "metadata": {},
   "outputs": [],
   "source": []
  }
 ],
 "metadata": {
  "kernelspec": {
   "display_name": "Python 3 (ipykernel)",
   "language": "python",
   "name": "python3"
  },
  "language_info": {
   "codemirror_mode": {
    "name": "ipython",
    "version": 3
   },
   "file_extension": ".py",
   "mimetype": "text/x-python",
   "name": "python",
   "nbconvert_exporter": "python",
   "pygments_lexer": "ipython3",
   "version": "3.9.12"
  }
 },
 "nbformat": 4,
 "nbformat_minor": 5
}
