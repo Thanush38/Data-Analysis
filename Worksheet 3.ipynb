{
 "cells": [
  {
   "cell_type": "code",
   "execution_count": 17,
   "id": "20242934",
   "metadata": {},
   "outputs": [
    {
     "name": "stdout",
     "output_type": "stream",
     "text": [
      "/Users/thanush/Documents/School/analysis/worksheets\n"
     ]
    }
   ],
   "source": [
    "import pandas as pd\n",
    "import csv\n",
    "import os\n",
    "d = [[\"ID\", \"Age\", \"Is_part_time\", \"Salary\"], [3,35,False,72000], [1,12,True, 45000],[2,20,True,50000],[4,50,False,100000]]\n",
    "print(os.getcwd())"
   ]
  },
  {
   "cell_type": "code",
   "execution_count": 18,
   "id": "d6d3829b",
   "metadata": {
    "scrolled": true
   },
   "outputs": [],
   "source": [
    "with open('data.csv','w') as csvfile:\n",
    "    writefile = csv.writer(csvfile, delimiter=',', quotechar='\"', quoting=csv.QUOTE_MINIMAL)\n",
    "    for data in d:\n",
    "        writefile.writerow(data)"
   ]
  },
  {
   "cell_type": "code",
   "execution_count": 19,
   "id": "6c19fa73",
   "metadata": {},
   "outputs": [
    {
     "name": "stdout",
     "output_type": "stream",
     "text": [
      "   ID  Age  Is_part_time  Salary\n",
      "0   3   35         False   72000\n",
      "1   1   12          True   45000\n",
      "2   2   20          True   50000\n",
      "3   4   50         False  100000\n"
     ]
    }
   ],
   "source": [
    "d2 = pd.read_csv('data.csv')\n",
    "print(d2.to_string())"
   ]
  },
  {
   "cell_type": "code",
   "execution_count": 21,
   "id": "e962ec62",
   "metadata": {},
   "outputs": [
    {
     "name": "stdout",
     "output_type": "stream",
     "text": [
      "a     5.0\n",
      "b     7.0\n",
      "c     9.0\n",
      "d    11.0\n",
      "e     NaN\n",
      "z     NaN\n",
      "dtype: float64\n"
     ]
    }
   ],
   "source": [
    "d = pd.Series(range(0,5,1), index=['a','b','c','d','e'])\n",
    "d2 = pd.Series(range(5,10,1), index=['a','b','c','d','z'])\n",
    "\n",
    "d3 = pd.Series.add(d,d2)\n",
    "print(d3)"
   ]
  },
  {
   "cell_type": "code",
   "execution_count": 26,
   "id": "7a67bc45",
   "metadata": {},
   "outputs": [
    {
     "name": "stdout",
     "output_type": "stream",
     "text": [
      "e   NaN\n",
      "z   NaN\n",
      "dtype: float64\n"
     ]
    }
   ],
   "source": [
    "print(d3[d3.isna()])"
   ]
  },
  {
   "cell_type": "code",
   "execution_count": 24,
   "id": "8a8d7032",
   "metadata": {},
   "outputs": [
    {
     "name": "stdout",
     "output_type": "stream",
     "text": [
      "     A    B     C          D\n",
      "0  0.0  0.0  foo1 2009-01-01\n",
      "1  1.0  1.0  foo2 2009-01-02\n",
      "2  2.0  0.0  foo3 2009-01-05\n",
      "3  3.0  1.0  foo4 2009-01-06\n",
      "4  4.0  0.0  foo5 2009-01-07\n"
     ]
    },
    {
     "name": "stderr",
     "output_type": "stream",
     "text": [
      "/Users/thanush/opt/anaconda3/lib/python3.9/site-packages/pandas/util/__init__.py:15: FutureWarning: pandas.util.testing is deprecated. Use the functions in the public API at pandas.testing instead.\n",
      "  import pandas.util.testing\n"
     ]
    }
   ],
   "source": [
    "d4 = pd.util.testing.makeMixedDataFrame()\n",
    "print(d4)"
   ]
  },
  {
   "cell_type": "code",
   "execution_count": 28,
   "id": "a47e9266",
   "metadata": {},
   "outputs": [
    {
     "name": "stdout",
     "output_type": "stream",
     "text": [
      "     A    B     C          D  greater\n",
      "0  0.0  0.0  foo1 2009-01-01    False\n",
      "1  1.0  1.0  foo2 2009-01-02    False\n",
      "2  2.0  0.0  foo3 2009-01-05    False\n",
      "3  3.0  1.0  foo4 2009-01-06     True\n",
      "4  4.0  0.0  foo5 2009-01-07     True\n"
     ]
    }
   ],
   "source": [
    "d4[\"greater\"] = d4[\"A\"]>2.0\n",
    "print(d4)"
   ]
  },
  {
   "cell_type": "code",
   "execution_count": null,
   "id": "6ab69222",
   "metadata": {},
   "outputs": [],
   "source": []
  }
 ],
 "metadata": {
  "kernelspec": {
   "display_name": "Python 3 (ipykernel)",
   "language": "python",
   "name": "python3"
  },
  "language_info": {
   "codemirror_mode": {
    "name": "ipython",
    "version": 3
   },
   "file_extension": ".py",
   "mimetype": "text/x-python",
   "name": "python",
   "nbconvert_exporter": "python",
   "pygments_lexer": "ipython3",
   "version": "3.9.12"
  }
 },
 "nbformat": 4,
 "nbformat_minor": 5
}
